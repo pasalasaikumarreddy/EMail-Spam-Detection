{
 "cells": [
  {
   "cell_type": "code",
   "execution_count": 1,
   "id": "8fe3bc62",
   "metadata": {},
   "outputs": [],
   "source": [
    "import numpy as np\n",
    "import pandas as pd\n",
    "from nltk.corpus import stopwords\n",
    "import string\n",
    "from sklearn.feature_extraction.text import CountVectorizer\n",
    "from sklearn.model_selection import train_test_split\n",
    "from sklearn.naive_bayes import MultinomialNB\n",
    "from sklearn.metrics import classification_report, confusion_matrix, accuracy_score"
   ]
  },
  {
   "cell_type": "code",
   "execution_count": 2,
   "id": "11a73e34",
   "metadata": {},
   "outputs": [],
   "source": [
    "dataset = pd.read_csv('E:\\\\third\\\\NLP\\\\spam email dataset.csv')"
   ]
  },
  {
   "cell_type": "code",
   "execution_count": 3,
   "id": "0f0637c8",
   "metadata": {},
   "outputs": [
    {
     "name": "stdout",
     "output_type": "stream",
     "text": [
      "Dataset head : \n",
      "                                                text spam\n",
      "0  Subject: naturally irresistible your corporate...    1\n",
      "1  Subject: the stock trading gunslinger  fanny i...    1\n",
      "2  Subject: unbelievable new homes made easy  im ...    1\n",
      "3  Subject: 4 color printing special  request add...    1\n",
      "4  Subject: do not have money , get software cds ...    1\n",
      "\n"
     ]
    }
   ],
   "source": [
    "print(f\"Dataset head : \\n{dataset.head()}\\n\")"
   ]
  },
  {
   "cell_type": "code",
   "execution_count": 4,
   "id": "58b606f5",
   "metadata": {},
   "outputs": [],
   "source": [
    "dataset.drop_duplicates(inplace=True)"
   ]
  },
  {
   "cell_type": "code",
   "execution_count": 5,
   "id": "7ec852d3",
   "metadata": {},
   "outputs": [
    {
     "name": "stdout",
     "output_type": "stream",
     "text": [
      "Number of missing data : \n",
      "text    0\n",
      "spam    0\n",
      "dtype: int64\n",
      "\n"
     ]
    }
   ],
   "source": [
    "dataset_ = dataset.dropna()\n",
    "print(f\"Number of missing data : \\n{dataset_.isnull().sum()}\\n\")"
   ]
  },
  {
   "cell_type": "code",
   "execution_count": 6,
   "id": "2a1721af",
   "metadata": {},
   "outputs": [],
   "source": [
    "def process(text):\n",
    "    nopunc = [char for char in text if char not in string.punctuation]\n",
    "    nopunc = ''.join(nopunc)\n",
    "    clean = [word for word in nopunc.split() if word.lower() not in stopwords.words('english')]\n",
    "    return clean"
   ]
  },
  {
   "cell_type": "code",
   "execution_count": 7,
   "id": "1d4dd2a1",
   "metadata": {},
   "outputs": [
    {
     "data": {
      "text/plain": [
       "0       Subject: naturally irresistible your corporate...\n",
       "1       Subject: the stock trading gunslinger  fanny i...\n",
       "2       Subject: unbelievable new homes made easy  im ...\n",
       "3       Subject: 4 color printing special  request add...\n",
       "4       Subject: do not have money , get software cds ...\n",
       "                              ...                        \n",
       "5727    Subject: re : research and development charges...\n",
       "5728    Subject: re : receipts from visit  jim ,  than...\n",
       "5729    Subject: re : enron case study update  wow ! a...\n",
       "5730    Subject: re : interest  david ,  please , call...\n",
       "5731    Subject: news : aurora 5 . 2 update  aurora ve...\n",
       "Name: text, Length: 5694, dtype: object"
      ]
     },
     "execution_count": 7,
     "metadata": {},
     "output_type": "execute_result"
    }
   ],
   "source": [
    "dataset_['text']"
   ]
  },
  {
   "cell_type": "code",
   "execution_count": 8,
   "id": "8dfcb76b",
   "metadata": {},
   "outputs": [
    {
     "name": "stdout",
     "output_type": "stream",
     "text": [
      "Dataset head after cleaning punctuation and stopwords and then tokenizing it into words : \n",
      "0    [Subject, naturally, irresistible, corporate, ...\n",
      "1    [Subject, stock, trading, gunslinger, fanny, m...\n",
      "2    [Subject, unbelievable, new, homes, made, easy...\n",
      "3    [Subject, 4, color, printing, special, request...\n",
      "4    [Subject, money, get, software, cds, software,...\n",
      "Name: text, dtype: object\n",
      "\n"
     ]
    }
   ],
   "source": [
    "print(f\"Dataset head after cleaning punctuation and stopwords and then tokenizing it into words : \\n{dataset_['text'].head().apply(process)}\\n\")"
   ]
  },
  {
   "cell_type": "code",
   "execution_count": 9,
   "id": "926b1a7f",
   "metadata": {},
   "outputs": [],
   "source": [
    "cv = CountVectorizer()\n",
    "x_=dataset['text'].fillna(' ')\n",
    "X = cv.fit_transform(x_).toarray()\n",
    "y = dataset['spam'].fillna(' ')"
   ]
  },
  {
   "cell_type": "code",
   "execution_count": 10,
   "id": "64a22124",
   "metadata": {},
   "outputs": [],
   "source": [
    "X_train, X_test, y_train, y_test = train_test_split(X, y, test_size=0.20, random_state=0)"
   ]
  },
  {
   "cell_type": "code",
   "execution_count": 11,
   "id": "02eabe3f",
   "metadata": {},
   "outputs": [
    {
     "data": {
      "text/plain": [
       "GaussianNB()"
      ]
     },
     "execution_count": 11,
     "metadata": {},
     "output_type": "execute_result"
    }
   ],
   "source": [
    "from sklearn.naive_bayes import GaussianNB\n",
    "GN_classifier = GaussianNB()\n",
    "GN_classifier.fit(X_train, y_train)"
   ]
  },
  {
   "cell_type": "code",
   "execution_count": 12,
   "id": "1168a6f3",
   "metadata": {},
   "outputs": [
    {
     "data": {
      "text/plain": [
       "0.9692982456140351"
      ]
     },
     "execution_count": 12,
     "metadata": {},
     "output_type": "execute_result"
    }
   ],
   "source": [
    "GN_score = GN_classifier.score(X_test,y_test)\n",
    "GN_score"
   ]
  },
  {
   "cell_type": "code",
   "execution_count": 13,
   "id": "1cdeea90",
   "metadata": {},
   "outputs": [
    {
     "data": {
      "text/plain": [
       "array(['0', '1', '1', ..., '1', '0', '0'], dtype='<U1')"
      ]
     },
     "execution_count": 13,
     "metadata": {},
     "output_type": "execute_result"
    }
   ],
   "source": [
    "y_GN_pred = GN_classifier.predict(X_test)\n",
    "y_GN_pred"
   ]
  },
  {
   "cell_type": "code",
   "execution_count": 14,
   "id": "cb546867",
   "metadata": {},
   "outputs": [
    {
     "data": {
      "text/plain": [
       "array([[0, 0, 0, ..., 0, 0, 0],\n",
       "       [0, 0, 0, ..., 0, 0, 0],\n",
       "       [0, 0, 0, ..., 0, 0, 0],\n",
       "       ...,\n",
       "       [0, 0, 0, ..., 0, 0, 0],\n",
       "       [0, 0, 0, ..., 0, 0, 0],\n",
       "       [0, 0, 0, ..., 0, 0, 0]], dtype=int64)"
      ]
     },
     "execution_count": 14,
     "metadata": {},
     "output_type": "execute_result"
    }
   ],
   "source": [
    "X_test"
   ]
  },
  {
   "cell_type": "code",
   "execution_count": 21,
   "id": "50598d84",
   "metadata": {},
   "outputs": [
    {
     "name": "stdout",
     "output_type": "stream",
     "text": [
      "Classification report :\n",
      "                    precision    recall  f1-score   support\n",
      "\n",
      " mr suresh prabhu        0.00      0.00      0.00         1\n",
      "                 0       0.97      1.00      0.98       873\n",
      "                 1       0.98      0.89      0.93       266\n",
      "\n",
      "          accuracy                           0.97      1140\n",
      "         macro avg       0.65      0.63      0.64      1140\n",
      "      weighted avg       0.97      0.97      0.97      1140\n",
      "\n",
      "\n"
     ]
    },
    {
     "name": "stderr",
     "output_type": "stream",
     "text": [
      "C:\\Users\\Sai Kumar P\\anaconda3\\lib\\site-packages\\sklearn\\metrics\\_classification.py:1318: UndefinedMetricWarning: Precision and F-score are ill-defined and being set to 0.0 in labels with no predicted samples. Use `zero_division` parameter to control this behavior.\n",
      "  _warn_prf(average, modifier, msg_start, len(result))\n",
      "C:\\Users\\Sai Kumar P\\anaconda3\\lib\\site-packages\\sklearn\\metrics\\_classification.py:1318: UndefinedMetricWarning: Precision and F-score are ill-defined and being set to 0.0 in labels with no predicted samples. Use `zero_division` parameter to control this behavior.\n",
      "  _warn_prf(average, modifier, msg_start, len(result))\n",
      "C:\\Users\\Sai Kumar P\\anaconda3\\lib\\site-packages\\sklearn\\metrics\\_classification.py:1318: UndefinedMetricWarning: Precision and F-score are ill-defined and being set to 0.0 in labels with no predicted samples. Use `zero_division` parameter to control this behavior.\n",
      "  _warn_prf(average, modifier, msg_start, len(result))\n"
     ]
    }
   ],
   "source": [
    "print(f\"Classification report :\\n{classification_report(y_test, y_GN_pred)}\\n\")"
   ]
  },
  {
   "cell_type": "code",
   "execution_count": 22,
   "id": "ceeabb33",
   "metadata": {},
   "outputs": [
    {
     "name": "stdout",
     "output_type": "stream",
     "text": [
      "[[  0   0   1]\n",
      " [  0 869   4]\n",
      " [  0  30 236]]\n"
     ]
    }
   ],
   "source": [
    "GN_cm = confusion_matrix(y_test, y_GN_pred)\n",
    "print(GN_cm)"
   ]
  },
  {
   "cell_type": "code",
   "execution_count": 23,
   "id": "70ac3cd3",
   "metadata": {},
   "outputs": [
    {
     "name": "stdout",
     "output_type": "stream",
     "text": [
      "Model accuracy : 97.0 %\n"
     ]
    }
   ],
   "source": [
    "print(f\"Model accuracy : {round(accuracy_score(y_test, y_GN_pred), 2)*100} %\")\n",
    "GN_acc=round(accuracy_score(y_test, y_GN_pred), 2)*100"
   ]
  },
  {
   "cell_type": "code",
   "execution_count": 58,
   "id": "45607e27",
   "metadata": {},
   "outputs": [
    {
     "name": "stdout",
     "output_type": "stream",
     "text": [
      "F1 Score: 0.969\n"
     ]
    },
    {
     "data": {
      "text/plain": [
       "0.9692982456140351"
      ]
     },
     "execution_count": 58,
     "metadata": {},
     "output_type": "execute_result"
    }
   ],
   "source": [
    "from sklearn.metrics import f1_score\n",
    "print('F1 Score: %.3f' % f1_score(y_test, y_GN_pred,average='micro'))\n",
    "GN_F1=f1_score(y_test, y_GN_pred,average='micro')\n",
    "GN_F1"
   ]
  },
  {
   "cell_type": "code",
   "execution_count": 28,
   "id": "a81140f8",
   "metadata": {},
   "outputs": [
    {
     "data": {
      "text/plain": [
       "MultinomialNB()"
      ]
     },
     "execution_count": 28,
     "metadata": {},
     "output_type": "execute_result"
    }
   ],
   "source": [
    "from sklearn.naive_bayes import MultinomialNB\n",
    "MN_classifier = MultinomialNB()\n",
    "MN_classifier.fit(X_train, y_train)"
   ]
  },
  {
   "cell_type": "code",
   "execution_count": 29,
   "id": "433857cd",
   "metadata": {},
   "outputs": [
    {
     "data": {
      "text/plain": [
       "0.9833333333333333"
      ]
     },
     "execution_count": 29,
     "metadata": {},
     "output_type": "execute_result"
    }
   ],
   "source": [
    "MN_score = MN_classifier.score(X_test,y_test)\n",
    "MN_score"
   ]
  },
  {
   "cell_type": "code",
   "execution_count": 30,
   "id": "0367954e",
   "metadata": {},
   "outputs": [],
   "source": [
    "y_MN_pred = MN_classifier.predict(X_test)"
   ]
  },
  {
   "cell_type": "code",
   "execution_count": 31,
   "id": "c9e85f60",
   "metadata": {},
   "outputs": [
    {
     "name": "stdout",
     "output_type": "stream",
     "text": [
      "Classification report :\n",
      "                    precision    recall  f1-score   support\n",
      "\n",
      "                         0.00      0.00      0.00         0\n",
      " mr suresh prabhu        0.00      0.00      0.00         1\n",
      "                 0       1.00      0.99      0.99       873\n",
      "                 1       0.97      0.97      0.97       266\n",
      "\n",
      "          accuracy                           0.98      1140\n",
      "         macro avg       0.49      0.49      0.49      1140\n",
      "      weighted avg       0.99      0.98      0.99      1140\n",
      "\n",
      "\n"
     ]
    },
    {
     "name": "stderr",
     "output_type": "stream",
     "text": [
      "C:\\Users\\Sai Kumar P\\anaconda3\\lib\\site-packages\\sklearn\\metrics\\_classification.py:1318: UndefinedMetricWarning: Precision and F-score are ill-defined and being set to 0.0 in labels with no predicted samples. Use `zero_division` parameter to control this behavior.\n",
      "  _warn_prf(average, modifier, msg_start, len(result))\n",
      "C:\\Users\\Sai Kumar P\\anaconda3\\lib\\site-packages\\sklearn\\metrics\\_classification.py:1318: UndefinedMetricWarning: Recall and F-score are ill-defined and being set to 0.0 in labels with no true samples. Use `zero_division` parameter to control this behavior.\n",
      "  _warn_prf(average, modifier, msg_start, len(result))\n",
      "C:\\Users\\Sai Kumar P\\anaconda3\\lib\\site-packages\\sklearn\\metrics\\_classification.py:1318: UndefinedMetricWarning: Precision and F-score are ill-defined and being set to 0.0 in labels with no predicted samples. Use `zero_division` parameter to control this behavior.\n",
      "  _warn_prf(average, modifier, msg_start, len(result))\n",
      "C:\\Users\\Sai Kumar P\\anaconda3\\lib\\site-packages\\sklearn\\metrics\\_classification.py:1318: UndefinedMetricWarning: Recall and F-score are ill-defined and being set to 0.0 in labels with no true samples. Use `zero_division` parameter to control this behavior.\n",
      "  _warn_prf(average, modifier, msg_start, len(result))\n",
      "C:\\Users\\Sai Kumar P\\anaconda3\\lib\\site-packages\\sklearn\\metrics\\_classification.py:1318: UndefinedMetricWarning: Precision and F-score are ill-defined and being set to 0.0 in labels with no predicted samples. Use `zero_division` parameter to control this behavior.\n",
      "  _warn_prf(average, modifier, msg_start, len(result))\n",
      "C:\\Users\\Sai Kumar P\\anaconda3\\lib\\site-packages\\sklearn\\metrics\\_classification.py:1318: UndefinedMetricWarning: Recall and F-score are ill-defined and being set to 0.0 in labels with no true samples. Use `zero_division` parameter to control this behavior.\n",
      "  _warn_prf(average, modifier, msg_start, len(result))\n"
     ]
    }
   ],
   "source": [
    "print(f\"Classification report :\\n{classification_report(y_test, y_MN_pred)}\\n\")"
   ]
  },
  {
   "cell_type": "code",
   "execution_count": 32,
   "id": "57580dfa",
   "metadata": {},
   "outputs": [
    {
     "name": "stdout",
     "output_type": "stream",
     "text": [
      "[[  0   0   0   0]\n",
      " [  0   0   0   1]\n",
      " [  4   0 862   7]\n",
      " [  5   0   2 259]]\n"
     ]
    }
   ],
   "source": [
    "MN_cm = confusion_matrix(y_test, y_MN_pred)\n",
    "print(MN_cm)"
   ]
  },
  {
   "cell_type": "code",
   "execution_count": 33,
   "id": "cdf9b8cd",
   "metadata": {},
   "outputs": [
    {
     "name": "stdout",
     "output_type": "stream",
     "text": [
      "Model accuracy : 98.0 %\n"
     ]
    }
   ],
   "source": [
    "print(f\"Model accuracy : {round(accuracy_score(y_test, y_MN_pred), 2)*100} %\")\n",
    "MN_acc=round(accuracy_score(y_test, y_MN_pred), 2)*100"
   ]
  },
  {
   "cell_type": "code",
   "execution_count": 34,
   "id": "8322cea6",
   "metadata": {},
   "outputs": [
    {
     "data": {
      "text/plain": [
       "0.9833333333333333"
      ]
     },
     "execution_count": 34,
     "metadata": {},
     "output_type": "execute_result"
    }
   ],
   "source": [
    "MN_F1=f1_score(y_test, y_MN_pred,average='micro')\n",
    "MN_F1"
   ]
  },
  {
   "cell_type": "code",
   "execution_count": 35,
   "id": "a7ba6f8d",
   "metadata": {},
   "outputs": [],
   "source": [
    "from sklearn import svm"
   ]
  },
  {
   "cell_type": "code",
   "execution_count": 36,
   "id": "d408cc59",
   "metadata": {},
   "outputs": [
    {
     "data": {
      "text/plain": [
       "SVC(random_state=0)"
      ]
     },
     "execution_count": 36,
     "metadata": {},
     "output_type": "execute_result"
    }
   ],
   "source": [
    "from sklearn.svm import SVC\n",
    "classifier = SVC(kernel = 'rbf', random_state = 0)\n",
    "classifier.fit(X_train, y_train)"
   ]
  },
  {
   "cell_type": "code",
   "execution_count": 37,
   "id": "e77c1198",
   "metadata": {},
   "outputs": [
    {
     "data": {
      "text/plain": [
       "0.9526315789473684"
      ]
     },
     "execution_count": 37,
     "metadata": {},
     "output_type": "execute_result"
    }
   ],
   "source": [
    "svm_score = classifier.score(X_test,y_test)\n",
    "svm_score"
   ]
  },
  {
   "cell_type": "code",
   "execution_count": 38,
   "id": "d29ed644",
   "metadata": {},
   "outputs": [],
   "source": [
    "y_SVM_pred = classifier.predict(X_test)"
   ]
  },
  {
   "cell_type": "code",
   "execution_count": 39,
   "id": "6597434c",
   "metadata": {},
   "outputs": [
    {
     "name": "stdout",
     "output_type": "stream",
     "text": [
      "Classification report :\n",
      "                    precision    recall  f1-score   support\n",
      "\n",
      " mr suresh prabhu        0.00      0.00      0.00         1\n",
      "                 0       0.95      1.00      0.97       873\n",
      "                 1       0.98      0.82      0.89       266\n",
      "\n",
      "          accuracy                           0.95      1140\n",
      "         macro avg       0.64      0.60      0.62      1140\n",
      "      weighted avg       0.95      0.95      0.95      1140\n",
      "\n",
      "\n"
     ]
    },
    {
     "name": "stderr",
     "output_type": "stream",
     "text": [
      "C:\\Users\\Sai Kumar P\\anaconda3\\lib\\site-packages\\sklearn\\metrics\\_classification.py:1318: UndefinedMetricWarning: Precision and F-score are ill-defined and being set to 0.0 in labels with no predicted samples. Use `zero_division` parameter to control this behavior.\n",
      "  _warn_prf(average, modifier, msg_start, len(result))\n",
      "C:\\Users\\Sai Kumar P\\anaconda3\\lib\\site-packages\\sklearn\\metrics\\_classification.py:1318: UndefinedMetricWarning: Precision and F-score are ill-defined and being set to 0.0 in labels with no predicted samples. Use `zero_division` parameter to control this behavior.\n",
      "  _warn_prf(average, modifier, msg_start, len(result))\n",
      "C:\\Users\\Sai Kumar P\\anaconda3\\lib\\site-packages\\sklearn\\metrics\\_classification.py:1318: UndefinedMetricWarning: Precision and F-score are ill-defined and being set to 0.0 in labels with no predicted samples. Use `zero_division` parameter to control this behavior.\n",
      "  _warn_prf(average, modifier, msg_start, len(result))\n"
     ]
    }
   ],
   "source": [
    "print(f\"Classification report :\\n{classification_report(y_test, y_SVM_pred)}\\n\")"
   ]
  },
  {
   "cell_type": "code",
   "execution_count": 40,
   "id": "78f8177a",
   "metadata": {},
   "outputs": [
    {
     "name": "stdout",
     "output_type": "stream",
     "text": [
      "Model accuracy : 95.0 %\n"
     ]
    }
   ],
   "source": [
    "print(f\"Model accuracy : {round(accuracy_score(y_test, y_SVM_pred), 2)*100} %\")\n",
    "SVM_acc=round(accuracy_score(y_test, y_SVM_pred), 2)*100"
   ]
  },
  {
   "cell_type": "code",
   "execution_count": 41,
   "id": "9d2d8945",
   "metadata": {},
   "outputs": [
    {
     "data": {
      "text/plain": [
       "0.9526315789473683"
      ]
     },
     "execution_count": 41,
     "metadata": {},
     "output_type": "execute_result"
    }
   ],
   "source": [
    "SVM_F1=f1_score(y_test, y_SVM_pred,average='micro')\n",
    "SVM_F1"
   ]
  },
  {
   "cell_type": "code",
   "execution_count": 42,
   "id": "58dbb1de",
   "metadata": {},
   "outputs": [
    {
     "name": "stderr",
     "output_type": "stream",
     "text": [
      "C:\\Users\\Sai Kumar P\\anaconda3\\lib\\site-packages\\sklearn\\linear_model\\_logistic.py:814: ConvergenceWarning: lbfgs failed to converge (status=1):\n",
      "STOP: TOTAL NO. of ITERATIONS REACHED LIMIT.\n",
      "\n",
      "Increase the number of iterations (max_iter) or scale the data as shown in:\n",
      "    https://scikit-learn.org/stable/modules/preprocessing.html\n",
      "Please also refer to the documentation for alternative solver options:\n",
      "    https://scikit-learn.org/stable/modules/linear_model.html#logistic-regression\n",
      "  n_iter_i = _check_optimize_result(\n"
     ]
    },
    {
     "data": {
      "text/plain": [
       "LogisticRegression()"
      ]
     },
     "execution_count": 42,
     "metadata": {},
     "output_type": "execute_result"
    }
   ],
   "source": [
    "from sklearn.linear_model import LogisticRegression\n",
    "\n",
    "model = LogisticRegression()\n",
    "model.fit(X_train, y_train)\n"
   ]
  },
  {
   "cell_type": "code",
   "execution_count": 43,
   "id": "bd2f8aea",
   "metadata": {},
   "outputs": [
    {
     "data": {
      "text/plain": [
       "0.9868421052631579"
      ]
     },
     "execution_count": 43,
     "metadata": {},
     "output_type": "execute_result"
    }
   ],
   "source": [
    "LR_score = model.score(X_test,y_test)\n",
    "LR_score"
   ]
  },
  {
   "cell_type": "code",
   "execution_count": 44,
   "id": "62070ec9",
   "metadata": {},
   "outputs": [],
   "source": [
    "y_LR_pred = model.predict(X_test)"
   ]
  },
  {
   "cell_type": "code",
   "execution_count": 45,
   "id": "c6cdd861",
   "metadata": {},
   "outputs": [
    {
     "name": "stdout",
     "output_type": "stream",
     "text": [
      "Classification report :\n",
      "                    precision    recall  f1-score   support\n",
      "\n",
      " mr suresh prabhu        0.00      0.00      0.00         1\n",
      "                 0       0.99      0.99      0.99       873\n",
      "                 1       0.98      0.97      0.97       266\n",
      "\n",
      "          accuracy                           0.99      1140\n",
      "         macro avg       0.66      0.65      0.66      1140\n",
      "      weighted avg       0.99      0.99      0.99      1140\n",
      "\n",
      "\n"
     ]
    },
    {
     "name": "stderr",
     "output_type": "stream",
     "text": [
      "C:\\Users\\Sai Kumar P\\anaconda3\\lib\\site-packages\\sklearn\\metrics\\_classification.py:1318: UndefinedMetricWarning: Precision and F-score are ill-defined and being set to 0.0 in labels with no predicted samples. Use `zero_division` parameter to control this behavior.\n",
      "  _warn_prf(average, modifier, msg_start, len(result))\n",
      "C:\\Users\\Sai Kumar P\\anaconda3\\lib\\site-packages\\sklearn\\metrics\\_classification.py:1318: UndefinedMetricWarning: Precision and F-score are ill-defined and being set to 0.0 in labels with no predicted samples. Use `zero_division` parameter to control this behavior.\n",
      "  _warn_prf(average, modifier, msg_start, len(result))\n",
      "C:\\Users\\Sai Kumar P\\anaconda3\\lib\\site-packages\\sklearn\\metrics\\_classification.py:1318: UndefinedMetricWarning: Precision and F-score are ill-defined and being set to 0.0 in labels with no predicted samples. Use `zero_division` parameter to control this behavior.\n",
      "  _warn_prf(average, modifier, msg_start, len(result))\n"
     ]
    }
   ],
   "source": [
    "print(f\"Classification report :\\n{classification_report(y_test, y_LR_pred)}\\n\")"
   ]
  },
  {
   "cell_type": "code",
   "execution_count": 46,
   "id": "77c90327",
   "metadata": {},
   "outputs": [
    {
     "name": "stdout",
     "output_type": "stream",
     "text": [
      "Model accuracy : 99.0 %\n"
     ]
    }
   ],
   "source": [
    "print(f\"Model accuracy : {round(accuracy_score(y_test, y_LR_pred), 2)*100} %\")\n",
    "LR_acc=round(accuracy_score(y_test, y_LR_pred), 2)*100"
   ]
  },
  {
   "cell_type": "code",
   "execution_count": 48,
   "id": "ecd64dee",
   "metadata": {},
   "outputs": [
    {
     "data": {
      "text/plain": [
       "0.9868421052631579"
      ]
     },
     "execution_count": 48,
     "metadata": {},
     "output_type": "execute_result"
    }
   ],
   "source": [
    "LR_F1=f1_score(y_test, y_LR_pred,average='micro')\n",
    "LR_F1"
   ]
  },
  {
   "cell_type": "code",
   "execution_count": 49,
   "id": "e7696c96",
   "metadata": {},
   "outputs": [
    {
     "data": {
      "text/plain": [
       "RandomForestClassifier(max_depth=2, random_state=0)"
      ]
     },
     "execution_count": 49,
     "metadata": {},
     "output_type": "execute_result"
    }
   ],
   "source": [
    "from sklearn.ensemble import RandomForestClassifier\n",
    "clf = RandomForestClassifier(max_depth=2, random_state=0)\n",
    "clf.fit(X_train, y_train)"
   ]
  },
  {
   "cell_type": "code",
   "execution_count": 50,
   "id": "4d03ac09",
   "metadata": {},
   "outputs": [
    {
     "data": {
      "text/plain": [
       "0.7657894736842106"
      ]
     },
     "execution_count": 50,
     "metadata": {},
     "output_type": "execute_result"
    }
   ],
   "source": [
    "RF_score = clf.score(X_test,y_test)\n",
    "RF_score"
   ]
  },
  {
   "cell_type": "code",
   "execution_count": 51,
   "id": "08649482",
   "metadata": {},
   "outputs": [],
   "source": [
    "y_RF_pred = clf.predict(X_test)"
   ]
  },
  {
   "cell_type": "code",
   "execution_count": 52,
   "id": "acb2b82d",
   "metadata": {},
   "outputs": [
    {
     "name": "stdout",
     "output_type": "stream",
     "text": [
      "Classification report :\n",
      "                    precision    recall  f1-score   support\n",
      "\n",
      " mr suresh prabhu        0.00      0.00      0.00         1\n",
      "                 0       0.77      1.00      0.87       873\n",
      "                 1       0.00      0.00      0.00       266\n",
      "\n",
      "          accuracy                           0.77      1140\n",
      "         macro avg       0.26      0.33      0.29      1140\n",
      "      weighted avg       0.59      0.77      0.66      1140\n",
      "\n",
      "\n"
     ]
    },
    {
     "name": "stderr",
     "output_type": "stream",
     "text": [
      "C:\\Users\\Sai Kumar P\\anaconda3\\lib\\site-packages\\sklearn\\metrics\\_classification.py:1318: UndefinedMetricWarning: Precision and F-score are ill-defined and being set to 0.0 in labels with no predicted samples. Use `zero_division` parameter to control this behavior.\n",
      "  _warn_prf(average, modifier, msg_start, len(result))\n",
      "C:\\Users\\Sai Kumar P\\anaconda3\\lib\\site-packages\\sklearn\\metrics\\_classification.py:1318: UndefinedMetricWarning: Precision and F-score are ill-defined and being set to 0.0 in labels with no predicted samples. Use `zero_division` parameter to control this behavior.\n",
      "  _warn_prf(average, modifier, msg_start, len(result))\n",
      "C:\\Users\\Sai Kumar P\\anaconda3\\lib\\site-packages\\sklearn\\metrics\\_classification.py:1318: UndefinedMetricWarning: Precision and F-score are ill-defined and being set to 0.0 in labels with no predicted samples. Use `zero_division` parameter to control this behavior.\n",
      "  _warn_prf(average, modifier, msg_start, len(result))\n"
     ]
    }
   ],
   "source": [
    "print(f\"Classification report :\\n{classification_report(y_test, y_RF_pred)}\\n\")"
   ]
  },
  {
   "cell_type": "code",
   "execution_count": 53,
   "id": "a56db981",
   "metadata": {},
   "outputs": [
    {
     "name": "stdout",
     "output_type": "stream",
     "text": [
      "Model accuracy : 77.0 %\n"
     ]
    }
   ],
   "source": [
    "print(f\"Model accuracy : {round(accuracy_score(y_test, y_RF_pred), 2)*100} %\")\n",
    "RF_acc=round(accuracy_score(y_test, y_RF_pred), 2)*100"
   ]
  },
  {
   "cell_type": "code",
   "execution_count": 54,
   "id": "6f7f5de5",
   "metadata": {},
   "outputs": [
    {
     "data": {
      "text/plain": [
       "0.7657894736842106"
      ]
     },
     "execution_count": 54,
     "metadata": {},
     "output_type": "execute_result"
    }
   ],
   "source": [
    "RF_F1=f1_score(y_test, y_RF_pred,average='micro')\n",
    "RF_F1"
   ]
  },
  {
   "cell_type": "code",
   "execution_count": 55,
   "id": "5f9284f6",
   "metadata": {},
   "outputs": [
    {
     "data": {
      "image/png": "[encoded data removed]",
      "text/plain": [
       "<Figure size 432x288 with 1 Axes>"
      ]
     },
     "metadata": {
      "needs_background": "light"
     },
     "output_type": "display_data"
    }
   ],
   "source": [
    "models = pd.DataFrame({\"GaussianNB\": GN_score,\n",
    "                           \"MultinomialNB\": MN_score, \"SVM\":svm_score,\"LogisticRegression\":LR_score,\"RF\":RF_score\n",
    "                           },\n",
    "                          index=[0])\n",
    "import matplotlib.pyplot as plt\n",
    "models.T.plot.bar(title=\"Training Accuracy Comparison\",\n",
    "                      legend=False)\n",
    "plt.xticks(rotation=0); "
   ]
  },
  {
   "cell_type": "code",
   "execution_count": 56,
   "id": "2fe5cee9",
   "metadata": {},
   "outputs": [
    {
     "data": {
      "image/png": "[encoded data removed]",
      "text/plain": [
       "<Figure size 432x288 with 1 Axes>"
      ]
     },
     "metadata": {
      "needs_background": "light"
     },
     "output_type": "display_data"
    }
   ],
   "source": [
    "models = pd.DataFrame({\"GaussianNB\": GN_acc,\n",
    "                           \"MultinomialNB\": MN_acc, \"SVM\":SVM_acc,\"LogisticRegression\":LR_acc,\"RF\":RF_acc\n",
    "                           },\n",
    "                          index=[0])\n",
    "import matplotlib.pyplot as plt\n",
    "models.T.plot.bar(title=\"Model Accuracy Comparison\",\n",
    "                      legend=False)\n",
    "plt.xticks(rotation=0); "
   ]
  },
  {
   "cell_type": "code",
   "execution_count": 57,
   "id": "d8781327",
   "metadata": {},
   "outputs": [
    {
     "data": {
      "image/png": "[encoded data removed]",
      "text/plain": [
       "<Figure size 432x288 with 1 Axes>"
      ]
     },
     "metadata": {
      "needs_background": "light"
     },
     "output_type": "display_data"
    }
   ],
   "source": [
    "models = pd.DataFrame({\"GaussianNB\": GN_F1,\n",
    "                           \"MultinomialNB\": MN_F1, \"SVM\":SVM_F1,\"LogisticRegression\":LR_F1,\"RF\":RF_F1\n",
    "                           },\n",
    "                          index=[0])\n",
    "import matplotlib.pyplot as plt\n",
    "models.T.plot.bar(title=\"F1 Score Comparison\",\n",
    "                      legend=False)\n",
    "plt.xticks(rotation=0); "
   ]
  },
  {
   "cell_type": "code",
   "execution_count": null,
   "id": "f26b8a72",
   "metadata": {},
   "outputs": [],
   "source": []
  }
 ],
 "metadata": {
  "kernelspec": {
   "display_name": "Python 3 (ipykernel)",
   "language": "python",
   "name": "python3"
  },
  "language_info": {
   "codemirror_mode": {
    "name": "ipython",
    "version": 3
   },
   "file_extension": ".py",
   "mimetype": "text/x-python",
   "name": "python",
   "nbconvert_exporter": "python",
   "pygments_lexer": "ipython3",
   "version": "3.9.12"
  }
 },
 "nbformat": 4,
 "nbformat_minor": 5
}
